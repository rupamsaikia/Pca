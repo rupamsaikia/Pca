{
 "cells": [
  {
   "cell_type": "code",
   "execution_count": 3,
   "metadata": {},
   "outputs": [],
   "source": [
    "import pandas as pd\n",
    "import numpy as np\n",
    "import matplotlib.pyplot as plt\n",
    "import seaborn as sns\n",
    "%matplotlib inline"
   ]
  },
  {
   "cell_type": "code",
   "execution_count": 4,
   "metadata": {},
   "outputs": [],
   "source": [
    "df = pd.read_csv('PCA_practice_dataset.csv')"
   ]
  },
  {
   "cell_type": "code",
   "execution_count": 5,
   "metadata": {},
   "outputs": [
    {
     "name": "stdout",
     "output_type": "stream",
     "text": [
      "      -3.125000000000000000e-02  2.363639999999999908e-01  \\\n",
      "0                     -0.031250                  0.309091   \n",
      "1                     -0.031250                  0.381818   \n",
      "2                     -0.031250                  0.381818   \n",
      "3                     -0.031250                  0.381818   \n",
      "4                     -0.031250                  0.381818   \n",
      "...                         ...                       ...   \n",
      "8036                   0.088958                  0.016323   \n",
      "8037                  -0.243556                 -0.092159   \n",
      "8038                  -0.136975                 -0.068480   \n",
      "8039                  -0.163077                 -0.090909   \n",
      "8040                  -0.166118                 -0.164594   \n",
      "\n",
      "      2.380950000000000011e-01  -9.090910000000000657e-02  \\\n",
      "0                     0.380952                   0.074380   \n",
      "1                     0.261905                  -0.107438   \n",
      "2                     0.285714                  -0.123967   \n",
      "3                     0.357143                  -0.024793   \n",
      "4                     0.357143                  -0.024793   \n",
      "...                        ...                        ...   \n",
      "8036                 -0.213069                  -0.376970   \n",
      "8037                 -0.477827                  -0.536054   \n",
      "8038                 -0.466067                  -0.504132   \n",
      "8039                 -0.476190                  -0.517050   \n",
      "8040                 -0.556392                  -0.647674   \n",
      "\n",
      "      0.000000000000000000e+00  3.818179999999999907e-01  \\\n",
      "0                     0.129032                  0.472727   \n",
      "1                     0.000000                  0.527273   \n",
      "2                    -0.129032                  0.309091   \n",
      "3                    -0.096774                  0.454545   \n",
      "4                     0.000000                  0.381818   \n",
      "...                        ...                       ...   \n",
      "8036                  0.117490                  0.074181   \n",
      "8037                 -0.094557                 -0.092159   \n",
      "8038                 -0.006181                 -0.054545   \n",
      "8039                 -0.096774                 -0.090909   \n",
      "8040                 -0.169776                 -0.150238   \n",
      "\n",
      "      3.263159999999999950e-01  -1.562500000000000000e-02  \\\n",
      "0                     0.557895                   0.078125   \n",
      "1                     0.326316                   0.046875   \n",
      "2                     0.073684                  -0.156250   \n",
      "3                     0.431579                  -0.015625   \n",
      "4                     0.431579                  -0.015625   \n",
      "...                        ...                        ...   \n",
      "8036                 -0.182175                  -0.286841   \n",
      "8037                 -0.411973                  -0.498926   \n",
      "8038                 -0.233154                  -0.409244   \n",
      "8039                 -0.359223                  -0.437500   \n",
      "8040                 -0.585595                  -0.604441   \n",
      "\n",
      "      -1.250000000000000000e-01  5.533979999999999455e-01  ...  \\\n",
      "0                     -0.031250                  0.398058  ...   \n",
      "1                     -0.031250                  0.631068  ...   \n",
      "2                      0.093750                  0.398058  ...   \n",
      "3                     -0.250000                  0.398058  ...   \n",
      "4                     -0.031250                  0.553398  ...   \n",
      "...                         ...                       ...  ...   \n",
      "8036                   0.213958                  0.240733  ...   \n",
      "8037                  -0.122852                 -0.027792  ...   \n",
      "8038                  -0.061188                 -0.067961  ...   \n",
      "8039                  -0.250000                 -0.029126  ...   \n",
      "8040                  -0.166118                 -0.067961  ...   \n",
      "\n",
      "      5.769229999999999636e-01  4.712640000000000162e-01  \\\n",
      "0                     0.519231                  0.425287   \n",
      "1                     0.384615                  0.103448   \n",
      "2                     0.519231                  0.425287   \n",
      "3                     0.480769                  0.471264   \n",
      "4                     0.480769                  0.471264   \n",
      "...                        ...                       ...   \n",
      "8036                 -0.120300                 -0.329808   \n",
      "8037                  0.077584                 -0.261208   \n",
      "8038                 -0.168585                 -0.566658   \n",
      "8039                  0.130414                 -0.292378   \n",
      "8040                  0.056679                 -0.333333   \n",
      "\n",
      "      -3.333330000000000320e-02  -4.615380000000000177e-02  \\\n",
      "0                      0.000000                   0.138462   \n",
      "1                     -0.250000                  -0.138462   \n",
      "2                     -0.050000                  -0.107692   \n",
      "3                     -0.033333                  -0.169231   \n",
      "4                     -0.033333                  -0.046154   \n",
      "...                         ...                        ...   \n",
      "8036                  -0.370927                  -0.015385   \n",
      "8037                  -0.527032                  -0.012212   \n",
      "8038                  -0.532634                  -0.279224   \n",
      "8039                  -0.450000                  -0.052876   \n",
      "8040                  -0.577192                  -0.138462   \n",
      "\n",
      "      5.247519999999999962e-01  4.105260000000000020e-01  \\\n",
      "0                     0.663366                  0.368421   \n",
      "1                     0.425743                  0.263158   \n",
      "2                     0.485149                  0.368421   \n",
      "3                     0.524752                  0.515789   \n",
      "4                     0.623762                  0.515789   \n",
      "...                        ...                       ...   \n",
      "8036                  0.135798                 -0.234572   \n",
      "8037                  0.188800                 -0.260264   \n",
      "8038                 -0.223097                 -0.539991   \n",
      "8039                  0.029703                 -0.288810   \n",
      "8040                  0.002605                 -0.268696   \n",
      "\n",
      "      -1.562500000000000000e-02.2  -1.875000000000000000e-01.1  \\\n",
      "0                        0.015625                     0.125000   \n",
      "1                       -0.109375                    -0.031250   \n",
      "2                       -0.031250                    -0.250000   \n",
      "3                       -0.015625                    -0.281250   \n",
      "4                        0.046875                     0.062500   \n",
      "...                           ...                          ...   \n",
      "8036                    -0.281250                     0.093750   \n",
      "8037                    -0.405176                    -0.032324   \n",
      "8038                    -0.534244                    -0.181512   \n",
      "8039                    -0.406250                    -0.031250   \n",
      "8040                    -0.505757                    -0.126647   \n",
      "\n",
      "      4.951459999999999750e-01  5.157890000000000530e-01  \n",
      "0                     0.533981                  0.368421  \n",
      "1                     0.650485                  0.452632  \n",
      "2                     0.203883                  0.094737  \n",
      "3                     0.495146                  0.410526  \n",
      "4                     0.592233                  0.410526  \n",
      "...                        ...                       ...  \n",
      "8036                  0.058469                 -0.158971  \n",
      "8037                  0.009709                 -0.263158  \n",
      "8038                 -0.053079                 -0.416328  \n",
      "8039                  0.087379                 -0.263158  \n",
      "8040                 -0.070008                 -0.326316  \n",
      "\n",
      "[8041 rows x 35 columns]\n"
     ]
    }
   ],
   "source": [
    "print(df)"
   ]
  },
  {
   "cell_type": "code",
   "execution_count": 6,
   "metadata": {},
   "outputs": [],
   "source": [
    "from sklearn.preprocessing import StandardScaler"
   ]
  },
  {
   "cell_type": "code",
   "execution_count": 7,
   "metadata": {},
   "outputs": [
    {
     "data": {
      "text/plain": [
       "StandardScaler()"
      ]
     },
     "execution_count": 7,
     "metadata": {},
     "output_type": "execute_result"
    }
   ],
   "source": [
    "scaler = StandardScaler()\n",
    "scaler.fit(df)"
   ]
  },
  {
   "cell_type": "code",
   "execution_count": 9,
   "metadata": {},
   "outputs": [],
   "source": [
    "scaled_data = scaler.transform(df)"
   ]
  },
  {
   "cell_type": "code",
   "execution_count": 10,
   "metadata": {},
   "outputs": [],
   "source": [
    "from sklearn.decomposition import PCA"
   ]
  },
  {
   "cell_type": "code",
   "execution_count": 12,
   "metadata": {},
   "outputs": [],
   "source": [
    "pca = PCA(n_components=2)"
   ]
  },
  {
   "cell_type": "code",
   "execution_count": 13,
   "metadata": {},
   "outputs": [
    {
     "data": {
      "text/plain": [
       "PCA(n_components=2)"
      ]
     },
     "execution_count": 13,
     "metadata": {},
     "output_type": "execute_result"
    }
   ],
   "source": [
    "pca.fit(scaled_data)"
   ]
  },
  {
   "cell_type": "code",
   "execution_count": 14,
   "metadata": {},
   "outputs": [
    {
     "data": {
      "text/plain": [
       "PCA(n_components=2)"
      ]
     },
     "execution_count": 14,
     "metadata": {},
     "output_type": "execute_result"
    }
   ],
   "source": [
    "PCA(n_components=2)"
   ]
  },
  {
   "cell_type": "code",
   "execution_count": 15,
   "metadata": {},
   "outputs": [],
   "source": [
    "x_pca = pca.transform(scaled_data)"
   ]
  },
  {
   "cell_type": "code",
   "execution_count": 16,
   "metadata": {},
   "outputs": [
    {
     "data": {
      "text/plain": [
       "(8041, 35)"
      ]
     },
     "execution_count": 16,
     "metadata": {},
     "output_type": "execute_result"
    }
   ],
   "source": [
    "scaled_data.shape"
   ]
  },
  {
   "cell_type": "code",
   "execution_count": 19,
   "metadata": {},
   "outputs": [
    {
     "data": {
      "text/plain": [
       "(8041, 2)"
      ]
     },
     "execution_count": 19,
     "metadata": {},
     "output_type": "execute_result"
    }
   ],
   "source": [
    "x_pca.shape"
   ]
  },
  {
   "cell_type": "code",
   "execution_count": 23,
   "metadata": {},
   "outputs": [
    {
     "name": "stdout",
     "output_type": "stream",
     "text": [
      "[[-1.34751615 -4.13320176]\n",
      " [-1.55689216 -3.22075605]\n",
      " [-1.35242643 -2.52488252]\n",
      " ...\n",
      " [-2.10355099  4.30869293]\n",
      " [-2.25373915  3.31621901]\n",
      " [-2.50462166  4.36179781]]\n"
     ]
    }
   ],
   "source": [
    "print(x_pca)"
   ]
  },
  {
   "cell_type": "code",
   "execution_count": 24,
   "metadata": {},
   "outputs": [],
   "source": [
    "cov_mat=np.cov(x_pca)"
   ]
  },
  {
   "cell_type": "code",
   "execution_count": 25,
   "metadata": {},
   "outputs": [],
   "source": [
    "eig_val,eig_vec=np.linalg.eig(cov_mat)"
   ]
  },
  {
   "cell_type": "code",
   "execution_count": 26,
   "metadata": {},
   "outputs": [
    {
     "name": "stdout",
     "output_type": "stream",
     "text": [
      "eigen values for the datasets is [ 1.23540484e+05+0.00000000e+00j -7.90212639e-13+3.03695022e-11j\n",
      " -7.90212639e-13-3.03695022e-11j ... -8.49538621e-21-1.21125731e-20j\n",
      "  2.15186328e-21+0.00000000e+00j -1.10221941e-20+0.00000000e+00j]\n"
     ]
    }
   ],
   "source": [
    "print(\"eigen values for the datasets is {}\".format(eig_val))"
   ]
  },
  {
   "cell_type": "code",
   "execution_count": 27,
   "metadata": {},
   "outputs": [
    {
     "data": {
      "text/plain": [
       "Text(0, 0.5, 'Second principal component')"
      ]
     },
     "execution_count": 27,
     "metadata": {},
     "output_type": "execute_result"
    },
    {
     "data": {
      "image/png": "[encoded data removed]",
      "text/plain": [
       "<Figure size 720x576 with 1 Axes>"
      ]
     },
     "metadata": {
      "needs_background": "light"
     },
     "output_type": "display_data"
    }
   ],
   "source": [
    "plt.figure(figsize=(10,8))\n",
    "plt.scatter(x_pca[:,0],x_pca[:,1],cmap='plasma')\n",
    "plt.xlabel('First principal component')\n",
    "plt.ylabel('Second principal component')\n",
    "           "
   ]
  },
  {
   "cell_type": "code",
   "execution_count": 29,
   "metadata": {},
   "outputs": [
    {
     "data": {
      "text/plain": [
       "array([[-0.20138189, -0.19704399,  0.07686953,  0.16585286, -0.20273847,\n",
       "        -0.19695399,  0.07966346,  0.16761459, -0.19740342, -0.19057128,\n",
       "         0.0813616 ,  0.16384621, -0.20342442, -0.20060455,  0.07902115,\n",
       "         0.17008367, -0.20723278, -0.20279139,  0.08330035,  0.17401227,\n",
       "        -0.20367845, -0.19862047,  0.08441926,  0.17086716, -0.19714012,\n",
       "        -0.19508289,  0.0762555 ,  0.1647014 , -0.20129862, -0.19834095,\n",
       "         0.07890672,  0.16761018, -0.20018702, -0.19597239,  0.07906958],\n",
       "       [-0.10221227, -0.12069311, -0.23850589, -0.17345842, -0.10655793,\n",
       "        -0.12354161, -0.24253846, -0.1758308 , -0.10518968, -0.12081885,\n",
       "        -0.23566226, -0.16986259, -0.10493086, -0.12298456, -0.24521126,\n",
       "        -0.17884749, -0.10939783, -0.12634436, -0.24923989, -0.18036309,\n",
       "        -0.10820953, -0.1237493 , -0.24244254, -0.17420802, -0.10036257,\n",
       "        -0.11926209, -0.23635947, -0.17146736, -0.10549402, -0.12276822,\n",
       "        -0.24040453, -0.17420002, -0.1037233 , -0.12088662, -0.23525196]])"
      ]
     },
     "execution_count": 29,
     "metadata": {},
     "output_type": "execute_result"
    }
   ],
   "source": [
    "pca.components_"
   ]
  },
  {
   "cell_type": "code",
   "execution_count": null,
   "metadata": {},
   "outputs": [],
   "source": []
  }
 ],
 "metadata": {
  "kernelspec": {
   "display_name": "Python 3",
   "language": "python",
   "name": "python3"
  },
  "language_info": {
   "codemirror_mode": {
    "name": "ipython",
    "version": 3
   },
   "file_extension": ".py",
   "mimetype": "text/x-python",
   "name": "python",
   "nbconvert_exporter": "python",
   "pygments_lexer": "ipython3",
   "version": "3.8.3"
  }
 },
 "nbformat": 4,
 "nbformat_minor": 4
}
